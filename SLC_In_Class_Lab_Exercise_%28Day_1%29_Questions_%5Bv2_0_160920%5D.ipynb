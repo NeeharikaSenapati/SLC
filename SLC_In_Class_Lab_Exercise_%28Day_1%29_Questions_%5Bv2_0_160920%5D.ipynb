{
 "cells": [
  {
   "cell_type": "markdown",
   "metadata": {
    "id": "hK9x_eqAuKeQ"
   },
   "source": [
    "<table align=\"center\" width=100%>\n",
    "    <tr>\n",
    "        <td width=\"20%\">\n",
    "            <img src=\"in_class.png\">\n",
    "        </td>\n",
    "        <td>\n",
    "            <div align=\"center\">\n",
    "                <font color=\"#21618C\" size=8px>\n",
    "                    <b> Inclass - Lab <br>(Day 1)\n",
    "                    </b>\n",
    "                </font>\n",
    "            </div>\n",
    "        </td>\n",
    "         <td width=\"25%\">\n",
    "            <img src=\"GL-2.png\">\n",
    "        </td>\n",
    "    </tr>\n",
    "</table>"
   ]
  },
  {
   "cell_type": "markdown",
   "metadata": {
    "id": "E48WM_QbuKeS"
   },
   "source": [
    "### About the data set (Heart disease data)\n",
    "\n",
    "The dataset contains information about patients. The aim is to find whether or not a patient has cardiovascular disease based on the several factors from the patient profile. <br> Attribute information: \n",
    "\n",
    "**male:** Gender of patient: male(1) or female(0) \n",
    "\n",
    "**age:** Age of patient\n",
    "\n",
    "**education:** Education level of patient: 1 = Some High School; 2 = High School or GED; 3 = Some College or Vocational School; 4 = college\n",
    "\n",
    "**currentSmoker:** Whether the patient is a smoker now: Yes(1) or No(0)\n",
    "\n",
    "**cigsPerDay:** Average number of cigarettes smoked by patient per day\n",
    "\n",
    "**BPMeds:** Whether the patient is on blood pressure medications: Yes(1) or No(0)\n",
    "\n",
    "**prevalentStroke:** If the patient has a history of heart stroke: Yes(1) or No(0)\n",
    "\n",
    "**prevalentHyp:** If the patient has a history of hypertension: Yes(1) or No(0)\n",
    "\n",
    "**diabetes:**  If the patient has a diabetes: Yes(1) or No(0)\n",
    "\n",
    "**totChol:** Average cholesterol levels in mg/dL\n",
    "\n",
    "**sysBP:** Average systolic blood pressure of patient\n",
    "\n",
    "**diaBP:** Average diastolic blood pressure of patient\n",
    "\n",
    "**BMI:** BMI of patient\n",
    "\n",
    "**heartRate:** Avergae heartrate of patient\n",
    "\n",
    "**glucose:** Average blood glucose levels of patient\n",
    "\n",
    "**CVD:** Does the patient have cardiovascular disease: Yes(1) or No(0)"
   ]
  },
  {
   "cell_type": "markdown",
   "metadata": {
    "id": "xpD6GLtYuKeT"
   },
   "source": [
    "## Table of Content\n",
    "\n",
    "1. **[Logistic Regression Model](#logreg)**\n",
    "2. **[Model Evaluation Metrics](#mod_eval)**\n",
    "3. **[Performance Evaluation Metrics](#perf_eval)**\n",
    "4. **[Determining optimal threshold](#opt)**"
   ]
  },
  {
   "cell_type": "markdown",
   "metadata": {
    "id": "Wh444xM0uKeT"
   },
   "source": [
    "**Import the required libraries**"
   ]
  },
  {
   "cell_type": "code",
   "execution_count": 1,
   "metadata": {
    "id": "zFoIJwzUuKeU"
   },
   "outputs": [],
   "source": [
    "# import 'Pandas' \n",
    "import pandas as pd \n",
    "\n",
    "# import 'Numpy' \n",
    "import numpy as np\n",
    "\n",
    "# import subpackage of Matplotlib\n",
    "import matplotlib.pyplot as plt\n",
    "from matplotlib.colors import ListedColormap\n",
    "\n",
    "# import 'Seaborn' \n",
    "import seaborn as sns\n",
    "\n",
    "# to suppress warnings \n",
    "from warnings import filterwarnings\n",
    "filterwarnings('ignore')\n",
    "\n",
    "# display all columns of the dataframe\n",
    "pd.options.display.max_columns = None\n",
    "\n",
    "# display all rows of the dataframe\n",
    "pd.options.display.max_rows = None\n",
    " \n",
    "# to display the float values upto 6 decimal places     \n",
    "pd.options.display.float_format = '{:.6f}'.format\n",
    "\n",
    "# import train-test split \n",
    "from sklearn.model_selection import train_test_split\n",
    "\n",
    "# import various functions from statsmodels\n",
    "import statsmodels\n",
    "import statsmodels.api as sm\n",
    "from statsmodels.stats.outliers_influence import variance_inflation_factor\n",
    "\n",
    "# import StandardScaler to perform scaling\n",
    "from sklearn.preprocessing import StandardScaler \n",
    "\n",
    "# import various functions from sklearn \n",
    "from sklearn import metrics\n",
    "from sklearn.linear_model import LogisticRegression\n",
    "from sklearn.metrics import classification_report\n",
    "from sklearn.metrics import cohen_kappa_score\n",
    "from sklearn.metrics import confusion_matrix\n",
    "from sklearn.metrics import roc_curve\n",
    "from sklearn.metrics import accuracy_score\n",
    "from sklearn.metrics import f1_score\n",
    "from sklearn.metrics import log_loss\n",
    "\n",
    "# import 'is_string_dtype' to check the string type \n",
    "from pandas.api.types import is_string_dtype\n",
    "\n",
    "# import function to perform feature selection\n",
    "from sklearn.feature_selection import RFE"
   ]
  },
  {
   "cell_type": "code",
   "execution_count": 2,
   "metadata": {
    "id": "aVrALeOXuKeV"
   },
   "outputs": [],
   "source": [
    "plt.rcParams['figure.figsize'] = [10,5]"
   ]
  },
  {
   "cell_type": "markdown",
   "metadata": {
    "id": "63luPIOtuKeV"
   },
   "source": [
    "#### Load the csv file"
   ]
  },
  {
   "cell_type": "code",
   "execution_count": 4,
   "metadata": {
    "id": "NlXMI9PruKeW",
    "outputId": "edf8cbcf-5e58-4375-e637-cd699911529d"
   },
   "outputs": [
    {
     "data": {
      "text/html": [
       "<div>\n",
       "<style scoped>\n",
       "    .dataframe tbody tr th:only-of-type {\n",
       "        vertical-align: middle;\n",
       "    }\n",
       "\n",
       "    .dataframe tbody tr th {\n",
       "        vertical-align: top;\n",
       "    }\n",
       "\n",
       "    .dataframe thead th {\n",
       "        text-align: right;\n",
       "    }\n",
       "</style>\n",
       "<table border=\"1\" class=\"dataframe\">\n",
       "  <thead>\n",
       "    <tr style=\"text-align: right;\">\n",
       "      <th></th>\n",
       "      <th>male</th>\n",
       "      <th>age</th>\n",
       "      <th>education</th>\n",
       "      <th>currentSmoker</th>\n",
       "      <th>cigsPerDay</th>\n",
       "      <th>BPMeds</th>\n",
       "      <th>prevalentStroke</th>\n",
       "      <th>prevalentHyp</th>\n",
       "      <th>diabetes</th>\n",
       "      <th>totChol</th>\n",
       "      <th>sysBP</th>\n",
       "      <th>diaBP</th>\n",
       "      <th>BMI</th>\n",
       "      <th>heartRate</th>\n",
       "      <th>glucose</th>\n",
       "      <th>CVD</th>\n",
       "    </tr>\n",
       "  </thead>\n",
       "  <tbody>\n",
       "    <tr>\n",
       "      <th>0</th>\n",
       "      <td>1</td>\n",
       "      <td>39</td>\n",
       "      <td>4.000000</td>\n",
       "      <td>0</td>\n",
       "      <td>0.000000</td>\n",
       "      <td>0.000000</td>\n",
       "      <td>0</td>\n",
       "      <td>0</td>\n",
       "      <td>0</td>\n",
       "      <td>195.000000</td>\n",
       "      <td>106.000000</td>\n",
       "      <td>70.000000</td>\n",
       "      <td>26.970000</td>\n",
       "      <td>80.000000</td>\n",
       "      <td>77.000000</td>\n",
       "      <td>0</td>\n",
       "    </tr>\n",
       "    <tr>\n",
       "      <th>1</th>\n",
       "      <td>0</td>\n",
       "      <td>46</td>\n",
       "      <td>2.000000</td>\n",
       "      <td>0</td>\n",
       "      <td>0.000000</td>\n",
       "      <td>0.000000</td>\n",
       "      <td>0</td>\n",
       "      <td>0</td>\n",
       "      <td>0</td>\n",
       "      <td>250.000000</td>\n",
       "      <td>121.000000</td>\n",
       "      <td>81.000000</td>\n",
       "      <td>28.730000</td>\n",
       "      <td>95.000000</td>\n",
       "      <td>76.000000</td>\n",
       "      <td>0</td>\n",
       "    </tr>\n",
       "    <tr>\n",
       "      <th>2</th>\n",
       "      <td>1</td>\n",
       "      <td>48</td>\n",
       "      <td>1.000000</td>\n",
       "      <td>1</td>\n",
       "      <td>20.000000</td>\n",
       "      <td>0.000000</td>\n",
       "      <td>0</td>\n",
       "      <td>0</td>\n",
       "      <td>0</td>\n",
       "      <td>245.000000</td>\n",
       "      <td>127.500000</td>\n",
       "      <td>80.000000</td>\n",
       "      <td>25.340000</td>\n",
       "      <td>75.000000</td>\n",
       "      <td>70.000000</td>\n",
       "      <td>0</td>\n",
       "    </tr>\n",
       "    <tr>\n",
       "      <th>3</th>\n",
       "      <td>0</td>\n",
       "      <td>61</td>\n",
       "      <td>3.000000</td>\n",
       "      <td>1</td>\n",
       "      <td>30.000000</td>\n",
       "      <td>0.000000</td>\n",
       "      <td>0</td>\n",
       "      <td>1</td>\n",
       "      <td>0</td>\n",
       "      <td>225.000000</td>\n",
       "      <td>150.000000</td>\n",
       "      <td>95.000000</td>\n",
       "      <td>28.580000</td>\n",
       "      <td>65.000000</td>\n",
       "      <td>103.000000</td>\n",
       "      <td>1</td>\n",
       "    </tr>\n",
       "    <tr>\n",
       "      <th>4</th>\n",
       "      <td>0</td>\n",
       "      <td>46</td>\n",
       "      <td>3.000000</td>\n",
       "      <td>1</td>\n",
       "      <td>23.000000</td>\n",
       "      <td>0.000000</td>\n",
       "      <td>0</td>\n",
       "      <td>0</td>\n",
       "      <td>0</td>\n",
       "      <td>285.000000</td>\n",
       "      <td>130.000000</td>\n",
       "      <td>84.000000</td>\n",
       "      <td>23.100000</td>\n",
       "      <td>85.000000</td>\n",
       "      <td>85.000000</td>\n",
       "      <td>0</td>\n",
       "    </tr>\n",
       "  </tbody>\n",
       "</table>\n",
       "</div>"
      ],
      "text/plain": [
       "   male  age  education  currentSmoker  cigsPerDay   BPMeds  prevalentStroke  \\\n",
       "0     1   39   4.000000              0    0.000000 0.000000                0   \n",
       "1     0   46   2.000000              0    0.000000 0.000000                0   \n",
       "2     1   48   1.000000              1   20.000000 0.000000                0   \n",
       "3     0   61   3.000000              1   30.000000 0.000000                0   \n",
       "4     0   46   3.000000              1   23.000000 0.000000                0   \n",
       "\n",
       "   prevalentHyp  diabetes    totChol      sysBP     diaBP       BMI  \\\n",
       "0             0         0 195.000000 106.000000 70.000000 26.970000   \n",
       "1             0         0 250.000000 121.000000 81.000000 28.730000   \n",
       "2             0         0 245.000000 127.500000 80.000000 25.340000   \n",
       "3             1         0 225.000000 150.000000 95.000000 28.580000   \n",
       "4             0         0 285.000000 130.000000 84.000000 23.100000   \n",
       "\n",
       "   heartRate    glucose  CVD  \n",
       "0  80.000000  77.000000    0  \n",
       "1  95.000000  76.000000    0  \n",
       "2  75.000000  70.000000    0  \n",
       "3  65.000000 103.000000    1  \n",
       "4  85.000000  85.000000    0  "
      ]
     },
     "execution_count": 4,
     "metadata": {},
     "output_type": "execute_result"
    }
   ],
   "source": [
    "df_heart = pd.read_csv(\"/Users/mohansamal/Desktop/SLC /Day 1 5/Heart_disease.csv\")\n",
    "df_heart.head()"
   ]
  },
  {
   "cell_type": "markdown",
   "metadata": {
    "id": "nYMb7mbCuKeX"
   },
   "source": [
    "**Data Preparation**"
   ]
  },
  {
   "cell_type": "code",
   "execution_count": 5,
   "metadata": {
    "id": "uh6wP8C6uKeX",
    "outputId": "54079eb3-f4df-4c1c-9628-bc48247c6d2b"
   },
   "outputs": [
    {
     "data": {
      "text/plain": [
       "(4240, 16)"
      ]
     },
     "execution_count": 5,
     "metadata": {},
     "output_type": "execute_result"
    }
   ],
   "source": [
    "df_heart.shape"
   ]
  },
  {
   "cell_type": "code",
   "execution_count": null,
   "metadata": {
    "id": "81FmI-lDuKeX",
    "outputId": "d7c07a18-8448-4b5e-86ef-f233d1df6919"
   },
   "outputs": [
    {
     "data": {
      "text/plain": [
       "male                 int64\n",
       "age                  int64\n",
       "education          float64\n",
       "currentSmoker        int64\n",
       "cigsPerDay         float64\n",
       "BPMeds             float64\n",
       "prevalentStroke      int64\n",
       "prevalentHyp         int64\n",
       "diabetes             int64\n",
       "totChol            float64\n",
       "sysBP              float64\n",
       "diaBP              float64\n",
       "BMI                float64\n",
       "heartRate          float64\n",
       "glucose            float64\n",
       "CVD                  int64\n",
       "dtype: object"
      ]
     },
     "execution_count": 5,
     "metadata": {},
     "output_type": "execute_result"
    }
   ],
   "source": [
    "df_heart.dtypes"
   ]
  },
  {
   "cell_type": "code",
   "execution_count": 6,
   "metadata": {
    "id": "J1cuXFfcuKeX"
   },
   "outputs": [],
   "source": [
    "df_heart['male'] = df_heart['male'].astype(object)\n",
    "df_heart['education'] = df_heart['education'].astype(object)\n",
    "df_heart['currentSmoker'] = df_heart['currentSmoker'].astype(object)\n",
    "df_heart['BPMeds'] = df_heart['BPMeds'].astype(object)\n",
    "df_heart['prevalentStroke'] = df_heart['prevalentStroke'].astype(object)\n",
    "df_heart['prevalentHyp'] = df_heart['prevalentHyp'].astype(object)\n",
    "df_heart['diabetes'] = df_heart['diabetes'].astype(object)"
   ]
  },
  {
   "cell_type": "markdown",
   "metadata": {
    "id": "1zZZcyJbuKeY"
   },
   "source": [
    "**Missing value analysis**"
   ]
  },
  {
   "cell_type": "code",
   "execution_count": 7,
   "metadata": {
    "id": "0cDKPLs4uKeY",
    "outputId": "8cc6385c-a7d2-4f63-d66c-0b4445bdb56c"
   },
   "outputs": [
    {
     "data": {
      "text/html": [
       "<div>\n",
       "<style scoped>\n",
       "    .dataframe tbody tr th:only-of-type {\n",
       "        vertical-align: middle;\n",
       "    }\n",
       "\n",
       "    .dataframe tbody tr th {\n",
       "        vertical-align: top;\n",
       "    }\n",
       "\n",
       "    .dataframe thead th {\n",
       "        text-align: right;\n",
       "    }\n",
       "</style>\n",
       "<table border=\"1\" class=\"dataframe\">\n",
       "  <thead>\n",
       "    <tr style=\"text-align: right;\">\n",
       "      <th></th>\n",
       "      <th>Total</th>\n",
       "      <th>Percent</th>\n",
       "    </tr>\n",
       "  </thead>\n",
       "  <tbody>\n",
       "    <tr>\n",
       "      <th>glucose</th>\n",
       "      <td>388</td>\n",
       "      <td>0.091509</td>\n",
       "    </tr>\n",
       "    <tr>\n",
       "      <th>education</th>\n",
       "      <td>105</td>\n",
       "      <td>0.024764</td>\n",
       "    </tr>\n",
       "    <tr>\n",
       "      <th>BPMeds</th>\n",
       "      <td>53</td>\n",
       "      <td>0.012500</td>\n",
       "    </tr>\n",
       "    <tr>\n",
       "      <th>totChol</th>\n",
       "      <td>50</td>\n",
       "      <td>0.011792</td>\n",
       "    </tr>\n",
       "    <tr>\n",
       "      <th>cigsPerDay</th>\n",
       "      <td>29</td>\n",
       "      <td>0.006840</td>\n",
       "    </tr>\n",
       "    <tr>\n",
       "      <th>BMI</th>\n",
       "      <td>19</td>\n",
       "      <td>0.004481</td>\n",
       "    </tr>\n",
       "    <tr>\n",
       "      <th>heartRate</th>\n",
       "      <td>1</td>\n",
       "      <td>0.000236</td>\n",
       "    </tr>\n",
       "    <tr>\n",
       "      <th>male</th>\n",
       "      <td>0</td>\n",
       "      <td>0.000000</td>\n",
       "    </tr>\n",
       "    <tr>\n",
       "      <th>age</th>\n",
       "      <td>0</td>\n",
       "      <td>0.000000</td>\n",
       "    </tr>\n",
       "    <tr>\n",
       "      <th>currentSmoker</th>\n",
       "      <td>0</td>\n",
       "      <td>0.000000</td>\n",
       "    </tr>\n",
       "    <tr>\n",
       "      <th>prevalentStroke</th>\n",
       "      <td>0</td>\n",
       "      <td>0.000000</td>\n",
       "    </tr>\n",
       "    <tr>\n",
       "      <th>prevalentHyp</th>\n",
       "      <td>0</td>\n",
       "      <td>0.000000</td>\n",
       "    </tr>\n",
       "    <tr>\n",
       "      <th>diabetes</th>\n",
       "      <td>0</td>\n",
       "      <td>0.000000</td>\n",
       "    </tr>\n",
       "    <tr>\n",
       "      <th>sysBP</th>\n",
       "      <td>0</td>\n",
       "      <td>0.000000</td>\n",
       "    </tr>\n",
       "    <tr>\n",
       "      <th>diaBP</th>\n",
       "      <td>0</td>\n",
       "      <td>0.000000</td>\n",
       "    </tr>\n",
       "    <tr>\n",
       "      <th>CVD</th>\n",
       "      <td>0</td>\n",
       "      <td>0.000000</td>\n",
       "    </tr>\n",
       "  </tbody>\n",
       "</table>\n",
       "</div>"
      ],
      "text/plain": [
       "                 Total  Percent\n",
       "glucose            388 0.091509\n",
       "education          105 0.024764\n",
       "BPMeds              53 0.012500\n",
       "totChol             50 0.011792\n",
       "cigsPerDay          29 0.006840\n",
       "BMI                 19 0.004481\n",
       "heartRate            1 0.000236\n",
       "male                 0 0.000000\n",
       "age                  0 0.000000\n",
       "currentSmoker        0 0.000000\n",
       "prevalentStroke      0 0.000000\n",
       "prevalentHyp         0 0.000000\n",
       "diabetes             0 0.000000\n",
       "sysBP                0 0.000000\n",
       "diaBP                0 0.000000\n",
       "CVD                  0 0.000000"
      ]
     },
     "execution_count": 7,
     "metadata": {},
     "output_type": "execute_result"
    }
   ],
   "source": [
    "total = df_heart.isnull().sum().sort_values(ascending=False)\n",
    "percent = (df_heart.isnull().sum()/df_heart.isnull().count()).sort_values(ascending=False)\n",
    "missing_data = pd.concat([total, percent], axis=1, keys=['Total', 'Percent'])\n",
    "missing_data"
   ]
  },
  {
   "cell_type": "markdown",
   "metadata": {
    "id": "YyPJ6Bz8uKeY"
   },
   "source": [
    "Except glucose we can drop all the records with null values from other columns."
   ]
  },
  {
   "cell_type": "code",
   "execution_count": 8,
   "metadata": {
    "id": "TB6xn8y3uKeY"
   },
   "outputs": [],
   "source": [
    "df_heart = df_heart.dropna(subset = ['education', 'BPMeds', 'totChol','cigsPerDay','BMI','heartRate'])"
   ]
  },
  {
   "cell_type": "code",
   "execution_count": 9,
   "metadata": {
    "id": "DGvST_IIuKeY",
    "outputId": "e9fb78ca-f389-4a0f-9314-ebbff5d01fd1"
   },
   "outputs": [
    {
     "data": {
      "text/plain": [
       "(3989, 16)"
      ]
     },
     "execution_count": 9,
     "metadata": {},
     "output_type": "execute_result"
    }
   ],
   "source": [
    "df_heart.shape"
   ]
  },
  {
   "cell_type": "code",
   "execution_count": null,
   "metadata": {
    "id": "80tsU0L9uKeZ"
   },
   "outputs": [],
   "source": [
    "df_heart['glucose'] = df_heart['glucose'].fillna(df_heart['glucose'].median())"
   ]
  },
  {
   "cell_type": "markdown",
   "metadata": {
    "id": "OGj16v9EuKeZ"
   },
   "source": [
    "### Let's begin with some hands-on practice exercises"
   ]
  },
  {
   "cell_type": "markdown",
   "metadata": {
    "id": "PPBc-HBbuKeZ"
   },
   "source": [
    "<a id=\"logreg\"> </a>\n",
    "## 1. Logistic regression model"
   ]
  },
  {
   "cell_type": "markdown",
   "metadata": {
    "id": "t4vgQvRDuKeZ"
   },
   "source": [
    "## We shall use the heart disease dataset"
   ]
  },
  {
   "cell_type": "markdown",
   "metadata": {
    "collapsed": true,
    "id": "N--xowguuKeZ"
   },
   "source": [
    "<table align=\"left\">\n",
    "    <tr>\n",
    "        <td width=\"6%\">\n",
    "            <img src=\"question_icon.png\">\n",
    "        </td>\n",
    "        <td>\n",
    "            <div align=\"left\", style=\"font-size:120%\">\n",
    "                <font color=\"#21618C\">\n",
    "                    <b>1. Are all the classes of target variable 'CVD' fairly represented by records in the considered dataset ?</b>\n",
    "                </font>\n",
    "            </div>\n",
    "        </td>\n",
    "    </tr>\n",
    "</table>"
   ]
  },
  {
   "cell_type": "code",
   "execution_count": null,
   "metadata": {
    "id": "DE213u7XuKeZ",
    "outputId": "b8ee6528-a779-4e08-f655-426322da418a"
   },
   "outputs": [
    {
     "data": {
      "image/png": "[encoded data removed]",
      "text/plain": [
       "<Figure size 720x360 with 1 Axes>"
      ]
     },
     "metadata": {
      "needs_background": "light"
     },
     "output_type": "display_data"
    }
   ],
   "source": [
    "df_target = df_heart['CVD']\n",
    "df_target.value_counts()\n",
    "sns.countplot(x = df_target)\n",
    "plt.text(x = -0.09, y = df_target.value_counts()[0] - 1500, s = str(round((df_target.value_counts()[0])*100/len(df_target),2)) + '%')\n",
    "plt.text(x = 0.90, y = df_target.value_counts()[1] - 300, s = str(round((df_target.value_counts()[1])*100/len(df_target),2)) + '%')\n",
    "plt.title('Count Plot for Target Variable (CVD)', fontsize = 15)\n",
    "plt.xlabel('Target Variable', fontsize = 15)\n",
    "plt.ylabel('Count', fontsize = 15)\n",
    "plt.show()"
   ]
  },
  {
   "cell_type": "markdown",
   "metadata": {
    "id": "Hv1tc5uFuKea"
   },
   "source": [
    "The percentage of the patients detected with cardiovascular disease is 14.92% and that of patients not having cardiovascular disease is 85.08%. So we can say all the classes are fairly represented."
   ]
  },
  {
   "cell_type": "markdown",
   "metadata": {
    "collapsed": true,
    "id": "6NDaHMpuuKea"
   },
   "source": [
    "<table align=\"left\">\n",
    "    <tr>\n",
    "        <td width=\"6%\">\n",
    "            <img src=\"question_icon.png\">\n",
    "        </td>\n",
    "        <td>\n",
    "            <div align=\"left\", style=\"font-size:120%\">\n",
    "                <font color=\"#21618C\">\n",
    "                    <b>2. Predict whether or not a patient will have cardiovascular disease based on the information about blood pressure of the patient. Columns related to blood pressure are diaBP, sysBP and BPMeds.</b>\n",
    "                </font>\n",
    "            </div>\n",
    "        </td>\n",
    "    </tr>\n",
    "</table>"
   ]
  },
  {
   "cell_type": "code",
   "execution_count": null,
   "metadata": {
    "id": "CYd8LvQwuKea"
   },
   "outputs": [],
   "source": [
    "df_num = df_heart.iloc[:,[10,11]]\n",
    "num_scaled=df_num.apply(lambda rec:rec-rec.mean()/rec.std(),axis=0)\n",
    "X = pd.DataFrame(num_scaled, columns = df_num.columns)\n",
    "X['BPMeds'] = pd.get_dummies(df_heart[\"BPMeds\"], drop_first=True)\n",
    "y = df_heart.CVD"
   ]
  },
  {
   "cell_type": "code",
   "execution_count": null,
   "metadata": {
    "id": "JwEQGUnjuKea"
   },
   "outputs": [],
   "source": [
    "X = sm.add_constant(X)\n",
    "X_train, X_test, y_train, y_test = train_test_split(X, y, random_state = 1, test_size = 0.2)"
   ]
  },
  {
   "cell_type": "code",
   "execution_count": null,
   "metadata": {
    "id": "eDAaReDcuKeb",
    "outputId": "b5b6d7a0-b457-40b3-b63e-998c55b7ee8d"
   },
   "outputs": [
    {
     "name": "stdout",
     "output_type": "stream",
     "text": [
      "Optimization terminated successfully.\n",
      "         Current function value: 0.400832\n",
      "         Iterations 6\n",
      "                           Logit Regression Results                           \n",
      "==============================================================================\n",
      "Dep. Variable:                    CVD   No. Observations:                 3191\n",
      "Model:                          Logit   Df Residuals:                     3187\n",
      "Method:                           MLE   Df Model:                            3\n",
      "Date:                Thu, 31 Mar 2022   Pseudo R-squ.:                 0.05096\n",
      "Time:                        14:36:09   Log-Likelihood:                -1279.1\n",
      "converged:                       True   LL-Null:                       -1347.7\n",
      "Covariance Type:            nonrobust   LLR p-value:                 1.399e-29\n",
      "==============================================================================\n",
      "                 coef    std err          z      P>|z|      [0.025      0.975]\n",
      "------------------------------------------------------------------------------\n",
      "const         -4.4159      0.328    -13.473      0.000      -5.058      -3.774\n",
      "sysBP          0.0272      0.003      7.913      0.000       0.020       0.034\n",
      "diaBP         -0.0113      0.006     -1.761      0.078      -0.024       0.001\n",
      "BPMeds         0.4089      0.234      1.745      0.081      -0.050       0.868\n",
      "==============================================================================\n"
     ]
    }
   ],
   "source": [
    "logreg = sm.Logit(y_train, X_train).fit()\n",
    "print(logreg.summary())"
   ]
  },
  {
   "cell_type": "markdown",
   "metadata": {
    "id": "Vf4IfhJouKeb"
   },
   "source": [
    "From the output, we see that the systolic BP value significantly affects the occurence of cardiovascular disease."
   ]
  },
  {
   "cell_type": "markdown",
   "metadata": {
    "collapsed": true,
    "id": "kp7z3oMbuKec"
   },
   "source": [
    "<table align=\"left\">\n",
    "    <tr>\n",
    "        <td width=\"6%\">\n",
    "            <img src=\"question_icon.png\">\n",
    "        </td>\n",
    "        <td>\n",
    "            <div align=\"left\", style=\"font-size:120%\">\n",
    "                <font color=\"#21618C\">\n",
    "                    <b>3. Predict whether or not a patient has cardiovascular disease using the categorical variables in the dataset. How does a unit change in each feature influence the odds of a patient having a cardiocascular disease?</b>\n",
    "                </font>\n",
    "            </div>\n",
    "        </td>\n",
    "    </tr>\n",
    "</table>"
   ]
  },
  {
   "cell_type": "code",
   "execution_count": null,
   "metadata": {
    "id": "mrOJilliuKec"
   },
   "outputs": [],
   "source": [
    "df_cat = df_heart.select_dtypes(include=\"object\")\n",
    "X = pd.get_dummies(df_cat, drop_first=True)\n",
    "y = df_heart.CVD"
   ]
  },
  {
   "cell_type": "code",
   "execution_count": null,
   "metadata": {
    "id": "npivqTmduKed"
   },
   "outputs": [],
   "source": [
    "X = sm.add_constant(X)\n",
    "X_train, X_test, y_train, y_test = train_test_split(X, y, random_state = 1, test_size = 0.2)"
   ]
  },
  {
   "cell_type": "code",
   "execution_count": null,
   "metadata": {
    "id": "7ptS19owuKee",
    "outputId": "73056922-43ce-408b-f1cc-eb17d23ab2fd"
   },
   "outputs": [
    {
     "name": "stdout",
     "output_type": "stream",
     "text": [
      "Optimization terminated successfully.\n",
      "         Current function value: 0.398923\n",
      "         Iterations 6\n"
     ]
    },
    {
     "data": {
      "text/html": [
       "<div>\n",
       "<style scoped>\n",
       "    .dataframe tbody tr th:only-of-type {\n",
       "        vertical-align: middle;\n",
       "    }\n",
       "\n",
       "    .dataframe tbody tr th {\n",
       "        vertical-align: top;\n",
       "    }\n",
       "\n",
       "    .dataframe thead th {\n",
       "        text-align: right;\n",
       "    }\n",
       "</style>\n",
       "<table border=\"1\" class=\"dataframe\">\n",
       "  <thead>\n",
       "    <tr style=\"text-align: right;\">\n",
       "      <th></th>\n",
       "      <th>Odds</th>\n",
       "    </tr>\n",
       "  </thead>\n",
       "  <tbody>\n",
       "    <tr>\n",
       "      <th>const</th>\n",
       "      <td>0.103328</td>\n",
       "    </tr>\n",
       "    <tr>\n",
       "      <th>male_1</th>\n",
       "      <td>1.679930</td>\n",
       "    </tr>\n",
       "    <tr>\n",
       "      <th>education_2.0</th>\n",
       "      <td>0.626836</td>\n",
       "    </tr>\n",
       "    <tr>\n",
       "      <th>education_3.0</th>\n",
       "      <td>0.796133</td>\n",
       "    </tr>\n",
       "    <tr>\n",
       "      <th>education_4.0</th>\n",
       "      <td>0.798434</td>\n",
       "    </tr>\n",
       "    <tr>\n",
       "      <th>currentSmoker_1</th>\n",
       "      <td>1.223758</td>\n",
       "    </tr>\n",
       "    <tr>\n",
       "      <th>BPMeds_1.0</th>\n",
       "      <td>1.983432</td>\n",
       "    </tr>\n",
       "    <tr>\n",
       "      <th>prevalentStroke_1</th>\n",
       "      <td>1.995138</td>\n",
       "    </tr>\n",
       "    <tr>\n",
       "      <th>prevalentHyp_1</th>\n",
       "      <td>2.244576</td>\n",
       "    </tr>\n",
       "    <tr>\n",
       "      <th>diabetes_1</th>\n",
       "      <td>2.373889</td>\n",
       "    </tr>\n",
       "  </tbody>\n",
       "</table>\n",
       "</div>"
      ],
      "text/plain": [
       "                      Odds\n",
       "const             0.103328\n",
       "male_1            1.679930\n",
       "education_2.0     0.626836\n",
       "education_3.0     0.796133\n",
       "education_4.0     0.798434\n",
       "currentSmoker_1   1.223758\n",
       "BPMeds_1.0        1.983432\n",
       "prevalentStroke_1 1.995138\n",
       "prevalentHyp_1    2.244576\n",
       "diabetes_1        2.373889"
      ]
     },
     "execution_count": 17,
     "metadata": {},
     "output_type": "execute_result"
    }
   ],
   "source": [
    "logreg = sm.Logit(y_train, X_train).fit()\n",
    "df_odds = pd.DataFrame(np.exp(logreg.params), columns= ['Odds']) \n",
    "df_odds"
   ]
  },
  {
   "cell_type": "markdown",
   "metadata": {
    "id": "m9wcbMzguKee"
   },
   "source": [
    "From the above table we can see how unit change in a variable respectively increase the odds of a patient having cardiovascular disease. The odds of constant indicate the odds of having a cardiovascular disease when no information about the patient is known. "
   ]
  },
  {
   "cell_type": "markdown",
   "metadata": {
    "collapsed": true,
    "id": "SIfWMkxTuKef"
   },
   "source": [
    "<table align=\"left\">\n",
    "    <tr>\n",
    "        <td width=\"6%\">\n",
    "            <img src=\"question_icon.png\">\n",
    "        </td>\n",
    "        <td>\n",
    "            <div align=\"left\", style=\"font-size:120%\">\n",
    "                <font color=\"#21618C\">\n",
    "                    <b>4. Predit if a patient has cardiovascular disease based on whether or not the patient has history of hypertension. Calculate the odds ratio.</b>\n",
    "                </font>\n",
    "            </div>\n",
    "        </td>\n",
    "    </tr>\n",
    "</table>"
   ]
  },
  {
   "cell_type": "code",
   "execution_count": null,
   "metadata": {
    "id": "KmLxLzeKuKef"
   },
   "outputs": [],
   "source": [
    "X= pd.get_dummies(df_heart[\"prevalentHyp\"], drop_first=True)\n",
    "y = df_heart.CVD\n",
    "X = sm.add_constant(X)\n",
    "X_train, X_test, y_train, y_test = train_test_split(X, y, random_state = 1, test_size = 0.2)"
   ]
  },
  {
   "cell_type": "code",
   "execution_count": null,
   "metadata": {
    "id": "o044zHQluKef",
    "outputId": "b9aeab09-233f-4212-d67a-772eec19bd26"
   },
   "outputs": [
    {
     "name": "stdout",
     "output_type": "stream",
     "text": [
      "Optimization terminated successfully.\n",
      "         Current function value: 0.409951\n",
      "         Iterations 6\n",
      "Odds of having heart disease given he has history of hypertension: 2.479988059053408\n",
      "Odds of having heart disease given he does not have history of hypertension: 0.4032277479520172\n",
      "Odds ratio: 6.15034077304749\n"
     ]
    }
   ],
   "source": [
    "logreg = sm.Logit(y_train, X_train).fit()\n",
    "df_odds = pd.DataFrame(np.exp(logreg.params), columns= ['Odds'])\n",
    "odds_hyp=df_odds.iloc[1,0]\n",
    "odds_no_hyp=(1/df_odds.iloc[1,0])\n",
    "print(\"Odds of having heart disease given he has history of hypertension:\",odds_hyp)\n",
    "print(\"Odds of having heart disease given he does not have history of hypertension:\",odds_no_hyp)\n",
    "print(\"Odds ratio:\",(odds_hyp/odds_no_hyp))"
   ]
  },
  {
   "cell_type": "markdown",
   "metadata": {
    "id": "dXaFXudXuKeg"
   },
   "source": [
    "From the odds ratio we can infer that a patient having a history of hypertension has approximately 6 times higher odds of having cardiovascular disease compared to a patient who does not have a history of hypertension."
   ]
  },
  {
   "cell_type": "markdown",
   "metadata": {
    "id": "U3pTqE-BuKeg"
   },
   "source": [
    "<a id=\"mod_eval\"> </a>\n",
    "## 2. Model Evaluation Metrics"
   ]
  },
  {
   "cell_type": "markdown",
   "metadata": {
    "collapsed": true,
    "id": "TjerAWcfuKeg"
   },
   "source": [
    "<table align=\"left\">\n",
    "    <tr>\n",
    "        <td width=\"6%\">\n",
    "            <img src=\"question_icon.png\">\n",
    "        </td>\n",
    "        <td>\n",
    "            <div align=\"left\", style=\"font-size:120%\">\n",
    "                <font color=\"#21618C\">\n",
    "                    <b>5. Build a full model to predict if a patient will have a cardiovascular disease. Find the value of Mcfadden's R<sup>2</sup>.\n",
    "                </font>\n",
    "            </div>\n",
    "        </td>\n",
    "    </tr>\n",
    "</table>"
   ]
  },
  {
   "cell_type": "code",
   "execution_count": null,
   "metadata": {
    "id": "55pNZSp5uKeg"
   },
   "outputs": [],
   "source": [
    "df_numeric = df_heart.select_dtypes(include=np.number).drop([\"CVD\"],axis=1)\n",
    "num_scaled=df_numeric.apply(lambda rec:rec-rec.mean()/rec.std(),axis=0)\n",
    "df_num = pd.DataFrame(num_scaled, columns = df_num.columns)\n",
    "df_categorical = df_heart.select_dtypes(include=\"object\")\n",
    "df_cat = pd.get_dummies(df_categorical, drop_first=True)\n",
    "X = pd.concat([df_num,df_cat],axis=1)\n",
    "y = df_heart.CVD\n",
    "X = sm.add_constant(X)\n",
    "X_train_full, X_test_full, y_train_full, y_test_full = train_test_split(X, y, random_state = 1, test_size = 0.2)"
   ]
  },
  {
   "cell_type": "code",
   "execution_count": null,
   "metadata": {
    "id": "qDPrrVAJuKeh",
    "outputId": "7fc160f1-efd6-4b9d-f897-7b8365b6b179"
   },
   "outputs": [
    {
     "name": "stdout",
     "output_type": "stream",
     "text": [
      "Optimization terminated successfully.\n",
      "         Current function value: 0.389908\n",
      "         Iterations 6\n",
      "                           Logit Regression Results                           \n",
      "==============================================================================\n",
      "Dep. Variable:                    CVD   No. Observations:                 3191\n",
      "Model:                          Logit   Df Residuals:                     3179\n",
      "Method:                           MLE   Df Model:                           11\n",
      "Date:                Thu, 31 Mar 2022   Pseudo R-squ.:                 0.07683\n",
      "Time:                        14:36:10   Log-Likelihood:                -1244.2\n",
      "converged:                       True   LL-Null:                       -1347.7\n",
      "Covariance Type:            nonrobust   LLR p-value:                 2.520e-38\n",
      "=====================================================================================\n",
      "                        coef    std err          z      P>|z|      [0.025      0.975]\n",
      "-------------------------------------------------------------------------------------\n",
      "const                -4.4332      0.427    -10.391      0.000      -5.269      -3.597\n",
      "sysBP                 0.0278      0.004      7.079      0.000       0.020       0.035\n",
      "diaBP                -0.0171      0.007     -2.586      0.010      -0.030      -0.004\n",
      "male_1                0.6110      0.109      5.592      0.000       0.397       0.825\n",
      "education_2.0        -0.3922      0.129     -3.052      0.002      -0.644      -0.140\n",
      "education_3.0        -0.1439      0.153     -0.941      0.347      -0.444       0.156\n",
      "education_4.0        -0.0844      0.169     -0.499      0.618      -0.416       0.247\n",
      "currentSmoker_1       0.2575      0.108      2.381      0.017       0.046       0.469\n",
      "BPMeds_1.0            0.3702      0.244      1.518      0.129      -0.108       0.848\n",
      "prevalentStroke_1     0.7929      0.514      1.543      0.123      -0.214       1.800\n",
      "prevalentHyp_1        0.1997      0.148      1.353      0.176      -0.089       0.489\n",
      "diabetes_1            0.6942      0.262      2.650      0.008       0.181       1.208\n",
      "=====================================================================================\n"
     ]
    }
   ],
   "source": [
    "logreg_full = sm.Logit(y_train_full, X_train_full).fit()\n",
    "y_pred_prob_full = logreg_full.predict(X_test_full)\n",
    "print(logreg_full.summary())"
   ]
  },
  {
   "cell_type": "markdown",
   "metadata": {
    "id": "wMyiMr_guKeh"
   },
   "source": [
    "As we can see the value of  pseudo or Mcfadden's R<sup>2</sup> is `0.07683`."
   ]
  },
  {
   "cell_type": "markdown",
   "metadata": {
    "collapsed": true,
    "id": "5Hq_1A6WuKeh"
   },
   "source": [
    "<table align=\"left\">\n",
    "    <tr>\n",
    "        <td width=\"6%\">\n",
    "            <img src=\"question_icon.png\">\n",
    "        </td>\n",
    "        <td>\n",
    "            <div align=\"left\", style=\"font-size:120%\">\n",
    "                <font color=\"#21618C\">\n",
    "                    <b>6. Find the significant variables in the full model when all the variables are considered in prediction of whether or not a patient has cardiovascular disease.\n",
    "                    </b>\n",
    "                </font>\n",
    "            </div>\n",
    "        </td>\n",
    "    </tr>\n",
    "</table>"
   ]
  },
  {
   "cell_type": "code",
   "execution_count": null,
   "metadata": {
    "id": "UCI_mrlwuKeh",
    "outputId": "dc3386df-deef-4639-c054-1ec6256ac4b8"
   },
   "outputs": [
    {
     "name": "stdout",
     "output_type": "stream",
     "text": [
      "                           Logit Regression Results                           \n",
      "==============================================================================\n",
      "Dep. Variable:                    CVD   No. Observations:                 3191\n",
      "Model:                          Logit   Df Residuals:                     3179\n",
      "Method:                           MLE   Df Model:                           11\n",
      "Date:                Thu, 31 Mar 2022   Pseudo R-squ.:                 0.07683\n",
      "Time:                        14:36:10   Log-Likelihood:                -1244.2\n",
      "converged:                       True   LL-Null:                       -1347.7\n",
      "Covariance Type:            nonrobust   LLR p-value:                 2.520e-38\n",
      "=====================================================================================\n",
      "                        coef    std err          z      P>|z|      [0.025      0.975]\n",
      "-------------------------------------------------------------------------------------\n",
      "const                -4.4332      0.427    -10.391      0.000      -5.269      -3.597\n",
      "sysBP                 0.0278      0.004      7.079      0.000       0.020       0.035\n",
      "diaBP                -0.0171      0.007     -2.586      0.010      -0.030      -0.004\n",
      "male_1                0.6110      0.109      5.592      0.000       0.397       0.825\n",
      "education_2.0        -0.3922      0.129     -3.052      0.002      -0.644      -0.140\n",
      "education_3.0        -0.1439      0.153     -0.941      0.347      -0.444       0.156\n",
      "education_4.0        -0.0844      0.169     -0.499      0.618      -0.416       0.247\n",
      "currentSmoker_1       0.2575      0.108      2.381      0.017       0.046       0.469\n",
      "BPMeds_1.0            0.3702      0.244      1.518      0.129      -0.108       0.848\n",
      "prevalentStroke_1     0.7929      0.514      1.543      0.123      -0.214       1.800\n",
      "prevalentHyp_1        0.1997      0.148      1.353      0.176      -0.089       0.489\n",
      "diabetes_1            0.6942      0.262      2.650      0.008       0.181       1.208\n",
      "=====================================================================================\n"
     ]
    }
   ],
   "source": [
    "print(logreg_full.summary())"
   ]
  },
  {
   "cell_type": "markdown",
   "metadata": {
    "id": "-JcntyaCuKeh"
   },
   "source": [
    "For logistic regression the Wald's test is used to identify the variables that significantly affect the target variable. Hence we can see that the following features are significant:<br>[`sysBP`,`diaBP`,`male_1`,`education_2.0`,`currentSmoker_1`,`diabetes_1`]"
   ]
  },
  {
   "cell_type": "markdown",
   "metadata": {
    "collapsed": true,
    "id": "S9J8MLD3uKeh"
   },
   "source": [
    "<table align=\"left\">\n",
    "    <tr>\n",
    "        <td width=\"6%\">\n",
    "            <img src=\"question_icon.png\">\n",
    "        </td>\n",
    "        <td>\n",
    "            <div align=\"left\", style=\"font-size:120%\">\n",
    "                <font color=\"#21618C\">\n",
    "                    <b>7. How do the coefficients of each feature form the dataset impact the odds of a patient having a cardiovascular disease?\n",
    "                    </b>\n",
    "                </font>\n",
    "            </div>\n",
    "        </td>\n",
    "    </tr>\n",
    "</table>"
   ]
  },
  {
   "cell_type": "markdown",
   "metadata": {
    "id": "pe-CEn6NuKei"
   },
   "source": [
    "To interpret the coefficients of each feature we consider the full model built in question 5"
   ]
  },
  {
   "cell_type": "code",
   "execution_count": null,
   "metadata": {
    "id": "EVwVB53guKei",
    "outputId": "c2b826b7-0a72-46f1-91e9-a3f373b644e0"
   },
   "outputs": [
    {
     "name": "stdout",
     "output_type": "stream",
     "text": [
      "                           Logit Regression Results                           \n",
      "==============================================================================\n",
      "Dep. Variable:                    CVD   No. Observations:                 3191\n",
      "Model:                          Logit   Df Residuals:                     3179\n",
      "Method:                           MLE   Df Model:                           11\n",
      "Date:                Thu, 31 Mar 2022   Pseudo R-squ.:                 0.07683\n",
      "Time:                        14:36:10   Log-Likelihood:                -1244.2\n",
      "converged:                       True   LL-Null:                       -1347.7\n",
      "Covariance Type:            nonrobust   LLR p-value:                 2.520e-38\n",
      "=====================================================================================\n",
      "                        coef    std err          z      P>|z|      [0.025      0.975]\n",
      "-------------------------------------------------------------------------------------\n",
      "const                -4.4332      0.427    -10.391      0.000      -5.269      -3.597\n",
      "sysBP                 0.0278      0.004      7.079      0.000       0.020       0.035\n",
      "diaBP                -0.0171      0.007     -2.586      0.010      -0.030      -0.004\n",
      "male_1                0.6110      0.109      5.592      0.000       0.397       0.825\n",
      "education_2.0        -0.3922      0.129     -3.052      0.002      -0.644      -0.140\n",
      "education_3.0        -0.1439      0.153     -0.941      0.347      -0.444       0.156\n",
      "education_4.0        -0.0844      0.169     -0.499      0.618      -0.416       0.247\n",
      "currentSmoker_1       0.2575      0.108      2.381      0.017       0.046       0.469\n",
      "BPMeds_1.0            0.3702      0.244      1.518      0.129      -0.108       0.848\n",
      "prevalentStroke_1     0.7929      0.514      1.543      0.123      -0.214       1.800\n",
      "prevalentHyp_1        0.1997      0.148      1.353      0.176      -0.089       0.489\n",
      "diabetes_1            0.6942      0.262      2.650      0.008       0.181       1.208\n",
      "=====================================================================================\n"
     ]
    }
   ],
   "source": [
    "print(logreg_full.summary())"
   ]
  },
  {
   "cell_type": "markdown",
   "metadata": {
    "id": "K6VFstqjuKei"
   },
   "source": [
    "**Interpretation of coefficients:**\n",
    "\n",
    "const: The odds of a patient having cardiovascular disease is 1/e<sup>4.4332</sup>, considering all other variables take zero value. \n",
    "\n",
    "sysBP: 0.0278, it implies that the odds of a patient having cardiovascular disease increases by a factor of e<sup>0.0278</sup> due to one unit increase in the systolic blood pressure, keeping other variables constant\n",
    "\n",
    "diaBP: -0.0171, it implies that the odds of a patient having cardiovascular disease decreases by a factor of e<sup>0.0171</sup> due to one unit increase in the diastolic blood pressure, keeping other variables constant\n",
    "\n",
    "male_1: 0.6110, it implies that the odds of a patient having cardiovascular disease increases by a factor of e<sup>0.6110</sup> if the patient is male compared to if the patient is female, keeping other variables constant\n",
    "\n",
    "education_2.0: -0.3922, it implies that the odds of a patient having cardiovascular disease decreases by a factor of e<sup>0.3922</sup> if the patient has education level of High school or GED, keeping other variables constant\n",
    "\n",
    "education_3.0: -0.1439, it implies that the odds of a patient having cardiovascular disease decreases by a factor of e<sup>0.1439</sup> if the patient has education level of vocational High school, keeping other variables constant\n",
    "\n",
    "education_4.0: -0.0844, it implies that the odds of a patient having cardiovascular disease decreases by a factor of e<sup>0.0844</sup> if the patient has college level education, keeping other variables constant\n",
    " \n",
    "currentSmoker_1:  0.2575, it implies that the odds of a patient having cardiovascular disease increases by a factor of e<sup>0.2575</sup> if the patient is a smoker, keeping other variables constant\n",
    "\n",
    "BPMeds_1.0: 0.3702, it implies that the odds of a patient having cardiovascular disease increases by a factor of e<sup>0.3702</sup> if the patient has been on blood pressure medications, keeping other variables constant\n",
    "\n",
    "prevalentStroke_1: 0.7929, it implies that the odds of a patient having cardiovascular disease increases by a factor of e<sup>0.7929</sup> if the patient has a history of heart stroke, keeping other variables constant\n",
    "\n",
    "prevalentHyp_1: 0.1997, it implies that the odds of a patient having cardiovascular disease decreases by a factor of e<sup>0.1997</sup> if the patient has a history of hypertension, keeping other variables constant\n",
    "\n",
    "diabetes_1: 0.6942, it implies that the odds of a patient having cardiovascular disease decreases by a factor of e<sup>0.6942</sup> if the patient has diabetes, keeping other variables constant"
   ]
  },
  {
   "cell_type": "markdown",
   "metadata": {
    "id": "eqPoeoC_uKei"
   },
   "source": [
    "<a id=\"perf_eval\"> </a>\n",
    "## 3. Performance evaluation metrics"
   ]
  },
  {
   "cell_type": "markdown",
   "metadata": {
    "collapsed": true,
    "id": "HpoGFmzpuKei"
   },
   "source": [
    "<table align=\"left\">\n",
    "    <tr>\n",
    "        <td width=\"6%\">\n",
    "            <img src=\"question_icon.png\">\n",
    "        </td>\n",
    "        <td>\n",
    "            <div align=\"left\", style=\"font-size:120%\">\n",
    "                <font color=\"#21618C\">\n",
    "                        <b>8. For the full model, calculate the accuracy manually using the confusion matrix. Consider 0.5 as the probability threshold.</b>\n",
    "                </font>\n",
    "            </div>\n",
    "        </td>\n",
    "    </tr>\n",
    "</table>"
   ]
  },
  {
   "cell_type": "code",
   "execution_count": null,
   "metadata": {
    "id": "JzvvZWqluKei",
    "outputId": "fa7b6f51-7d59-4f93-d451-def2827377ec"
   },
   "outputs": [
    {
     "name": "stdout",
     "output_type": "stream",
     "text": [
      "Accuracy: 0.8508771929824561\n"
     ]
    }
   ],
   "source": [
    "y_pred_prob = logreg_full.predict(X_test_full)\n",
    "y_pred = [ 0 if x < 0.5 else 1 for x in y_pred_prob]\n",
    "cm = confusion_matrix(y_test_full, y_pred)\n",
    "TN = cm[0,0]\n",
    "TP = cm[1,1]\n",
    "FP = cm[0,1]\n",
    "FN = cm[1,0]\n",
    "accuracy = (TN+TP) / (TN+FP+FN+TP)\n",
    "print(\"Accuracy:\", accuracy)"
   ]
  },
  {
   "cell_type": "markdown",
   "metadata": {
    "collapsed": true,
    "id": "1IOEnslzuKei"
   },
   "source": [
    "<table align=\"left\">\n",
    "    <tr>\n",
    "        <td width=\"6%\">\n",
    "            <img src=\"question_icon.png\">\n",
    "        </td>\n",
    "        <td>\n",
    "            <div align=\"left\", style=\"font-size:120%\">\n",
    "                <font color=\"#21618C\">\n",
    "                    <b>9.  Calculate value of kappa for the full model built in question 5. Consider threshold value as 0.18</b>\n",
    "                </font>\n",
    "            </div>\n",
    "        </td>\n",
    "    </tr>\n",
    "</table>"
   ]
  },
  {
   "cell_type": "code",
   "execution_count": null,
   "metadata": {
    "id": "aynG9-1ouKej",
    "outputId": "9ae4a341-a9e3-42e8-ef36-d27e5f5846cb"
   },
   "outputs": [
    {
     "name": "stdout",
     "output_type": "stream",
     "text": [
      "kappa value: 0.22275959351699914\n"
     ]
    }
   ],
   "source": [
    "y_pred_prob = logreg_full.predict(X_test_full)\n",
    "y_pred = [ 0 if x < 0.18 else 1 for x in y_pred_prob]\n",
    "kappa = cohen_kappa_score(y_test_full, y_pred)\n",
    "print('kappa value:',kappa)"
   ]
  },
  {
   "cell_type": "markdown",
   "metadata": {
    "id": "jXwxAqskuKej"
   },
   "source": [
    "The kappa value at threshold 0.22 indicates that there is fair agreement between the raters (actual and predicted values). "
   ]
  },
  {
   "cell_type": "markdown",
   "metadata": {
    "collapsed": true,
    "id": "A2Xqk2gWuKej"
   },
   "source": [
    "<table align=\"left\">\n",
    "    <tr>\n",
    "        <td width=\"6%\">\n",
    "            <img src=\"question_icon.png\">\n",
    "        </td>\n",
    "        <td>\n",
    "            <div align=\"left\", style=\"font-size:120%\">\n",
    "                <font color=\"#21618C\">\n",
    "                    <b>10. Identify the features from the dataset that are involved in multicollinearity. After that, split the updated data using train_test_split.</b>\n",
    "                </font>\n",
    "            </div>\n",
    "        </td>\n",
    "    </tr>\n",
    "</table>"
   ]
  },
  {
   "cell_type": "code",
   "execution_count": null,
   "metadata": {
    "id": "AagtSvuGuKek",
    "outputId": "cbc7fe10-25b0-45eb-b177-4c6d9ca5cd53"
   },
   "outputs": [
    {
     "data": {
      "image/png": "[encoded data removed]",
      "text/plain": [
       "<Figure size 1080x576 with 2 Axes>"
      ]
     },
     "metadata": {
      "needs_background": "light"
     },
     "output_type": "display_data"
    }
   ],
   "source": [
    "df_num = df_heart.select_dtypes(include=np.number).drop(['CVD'],axis=1)\n",
    "fig_dims = (15,8)\n",
    "fig, ax = plt.subplots(figsize=fig_dims)\n",
    "sns.heatmap(df_num.corr(), annot = True, annot_kws = {\"size\": 15})\n",
    "plt.yticks(rotation = 'horizontal', fontsize = 15)\n",
    "plt.xticks(fontsize = 15)\n",
    "plt.show()"
   ]
  },
  {
   "cell_type": "markdown",
   "metadata": {
    "id": "kCzD9jxvuKek"
   },
   "source": [
    "As we can see that the variables 'sysBP'and 'disBP' are highly correlated we can drop one of these variables."
   ]
  },
  {
   "cell_type": "code",
   "execution_count": null,
   "metadata": {
    "id": "fL52LvuDuKek"
   },
   "outputs": [],
   "source": [
    "df_heart = df_heart.drop(['diaBP'], axis=1)"
   ]
  },
  {
   "cell_type": "code",
   "execution_count": null,
   "metadata": {
    "id": "jYYtxF4vuKel"
   },
   "outputs": [],
   "source": [
    "df_numeric = df_heart.select_dtypes(include=np.number).drop([\"CVD\"],axis=1)\n",
    "num_scaled=df_numeric.apply(lambda rec:rec-rec.mean()/rec.std(),axis=0)\n",
    "df_num = pd.DataFrame(num_scaled, columns = df_numeric.columns)\n",
    "df_categorical = df_heart.select_dtypes(include=\"object\")\n",
    "df_cat = pd.get_dummies(df_categorical, drop_first=True)\n",
    "X = pd.concat([df_num,df_cat],axis=1)\n",
    "y = df_heart.CVD\n",
    "X = sm.add_constant(X)\n",
    "X_train_full, X_test_full, y_train_full, y_test_full = train_test_split(X, y, random_state = 1, test_size = 0.2)"
   ]
  },
  {
   "cell_type": "markdown",
   "metadata": {
    "collapsed": true,
    "id": "LqQL0R1KuKel"
   },
   "source": [
    "<table align=\"left\">\n",
    "    <tr>\n",
    "        <td width=\"6%\">\n",
    "            <img src=\"question_icon.png\">\n",
    "        </td>\n",
    "        <td>\n",
    "            <div align=\"left\", style=\"font-size:120%\">\n",
    "                <font color=\"#21618C\">\n",
    "                    <b>11. Use the data obtained from Q10 and identify 5 features that contribute most in the prediction of target variable.<br></b>\n",
    "                </font>\n",
    "            </div>\n",
    "        </td>\n",
    "    </tr>\n",
    "</table>"
   ]
  },
  {
   "cell_type": "code",
   "execution_count": null,
   "metadata": {
    "id": "1GhF64uYuKel",
    "outputId": "65be7328-fc04-47d1-e4dd-89f7843fed1c"
   },
   "outputs": [
    {
     "name": "stdout",
     "output_type": "stream",
     "text": [
      "Index(['male_1', 'BPMeds_1.0', 'prevalentStroke_1', 'prevalentHyp_1',\n",
      "       'diabetes_1'],\n",
      "      dtype='object')\n"
     ]
    }
   ],
   "source": [
    "logreg = LogisticRegression()\n",
    "rfe_model = RFE(estimator = logreg, n_features_to_select = 5)\n",
    "rfe_model = rfe_model.fit(X_train_full, y_train_full)\n",
    "feat_index = pd.Series(data = rfe_model.ranking_, index = X_train_full.columns)\n",
    "signi_feat_rfe = feat_index[feat_index==1].index\n",
    "print(signi_feat_rfe)"
   ]
  },
  {
   "cell_type": "markdown",
   "metadata": {
    "collapsed": true,
    "id": "ktCIhnHvuKel"
   },
   "source": [
    "<table align=\"left\">\n",
    "    <tr>\n",
    "        <td width=\"6%\">\n",
    "            <img src=\"question_icon.png\">\n",
    "        </td>\n",
    "        <td>\n",
    "            <div align=\"left\", style=\"font-size:120%\">\n",
    "                <font color=\"#21618C\">\n",
    "                    <b>12. Build a model using the features obtained in question 11. For the model find: \n",
    "                        <ol>                       \n",
    "                         <li>Accuracy</li>\n",
    "                        <li>F<sub>1</sub> score</li>\n",
    "                        </ol>\n",
    "                        </b>\n",
    "                </font>\n",
    "            </div>\n",
    "        </td>\n",
    "    </tr>\n",
    "</table>"
   ]
  },
  {
   "cell_type": "code",
   "execution_count": null,
   "metadata": {
    "id": "UCeclSqWuKel",
    "outputId": "753afbb2-5541-4c65-8187-e86313b345ca"
   },
   "outputs": [
    {
     "name": "stdout",
     "output_type": "stream",
     "text": [
      "Optimization terminated successfully.\n",
      "         Current function value: 0.588832\n",
      "         Iterations 5\n",
      "Accuracy: 0.525062656641604\n",
      "F1 score: 0.11241217798594846\n"
     ]
    }
   ],
   "source": [
    "logreg_rfe = sm.Logit(y_train_full, X_train_full[['male_1', 'BPMeds_1.0', 'prevalentStroke_1', 'prevalentHyp_1','diabetes_1']]).fit()\n",
    "X_test_new=X_test_full[['male_1', 'BPMeds_1.0', 'prevalentStroke_1', 'prevalentHyp_1','diabetes_1']]\n",
    "y_pred_prob_rfe = logreg_rfe.predict(X_test_new)\n",
    "y_pred = [ 0 if x < 0.5 else 1 for x in y_pred_prob_rfe]\n",
    "print(\"Accuracy:\",accuracy_score(y_test_full, y_pred))\n",
    "print(\"F1 score:\",f1_score(y_test_full, y_pred))"
   ]
  },
  {
   "cell_type": "markdown",
   "metadata": {
    "collapsed": true,
    "id": "D9hbK6kSuKem"
   },
   "source": [
    "<table align=\"left\">\n",
    "    <tr>\n",
    "        <td width=\"6%\">\n",
    "            <img src=\"question_icon.png\">\n",
    "        </td>\n",
    "        <td>\n",
    "            <div align=\"left\", style=\"font-size:120%\">\n",
    "                <font color=\"#21618C\">\n",
    "                    <b>13. Compare the full model in question 5 and the model built in question 12 using their ROC curves. </b>\n",
    "                </font>\n",
    "            </div>\n",
    "        </td>\n",
    "    </tr>\n",
    "</table>"
   ]
  },
  {
   "cell_type": "code",
   "execution_count": null,
   "metadata": {
    "id": "wvsASlrYuKem",
    "outputId": "c100ad34-5936-4156-dfad-cc785f37104d"
   },
   "outputs": [
    {
     "data": {
      "image/png": "[encoded data removed]",
      "text/plain": [
       "<Figure size 720x360 with 1 Axes>"
      ]
     },
     "metadata": {
      "needs_background": "light"
     },
     "output_type": "display_data"
    }
   ],
   "source": [
    "fpr, tpr, thresholds = roc_curve(y_test_full, y_pred_prob_full)\n",
    "plt.plot(fpr, tpr)\n",
    "plt.xlim([0.0, 1.0])\n",
    "plt.ylim([0.0, 1.0])\n",
    "plt.plot([0, 1], [0, 1],'r--')\n",
    "plt.title('ROC curve for Cardiovascular disease Prediction Classifier (Full Model)', fontsize = 15)\n",
    "plt.xlabel('False positive rate (1-Specificity)', fontsize = 15)\n",
    "plt.ylabel('True positive rate (Sensitivity)', fontsize = 15)\n",
    "plt.text(x = 0.02, y = 0.9, s = ('AUC Score for full model:',round(metrics.roc_auc_score(y_test_full, y_pred_prob_full),4)))\n",
    "fpr1, tpr1, thresholds1 = roc_curve(y_test_full, y_pred_prob_rfe)\n",
    "plt.plot(fpr1, tpr1)\n",
    "plt.text(x = 0.02, y = 0.8, s = ('AUC Score for RFE model:',round(metrics.roc_auc_score(y_test_full, y_pred_prob_rfe),4)))  \n",
    "plt.grid(True)"
   ]
  },
  {
   "cell_type": "markdown",
   "metadata": {
    "id": "Jceo9oOuuKem"
   },
   "source": [
    "From the above figure we can see the area under curve is greater for the full model. Hence we can say that full model is better than the model built using 5 significant features."
   ]
  },
  {
   "cell_type": "markdown",
   "metadata": {
    "collapsed": true,
    "id": "guMK3nUzuKem"
   },
   "source": [
    "<table align=\"left\">\n",
    "    <tr>\n",
    "        <td width=\"6%\">\n",
    "            <img src=\"question_icon.png\">\n",
    "        </td>\n",
    "        <td>\n",
    "            <div align=\"left\", style=\"font-size:120%\">\n",
    "                <font color=\"#21618C\">\n",
    "                    <b>14. Build a logistic regression model using information about heart rate of the patients. Compute the AUC score.</b>\n",
    "                </font>\n",
    "            </div>\n",
    "        </td>\n",
    "    </tr>\n",
    "</table>"
   ]
  },
  {
   "cell_type": "code",
   "execution_count": null,
   "metadata": {
    "id": "kSXgs3kruKem"
   },
   "outputs": [],
   "source": [
    "df_num = df_heart.iloc[:,[13]]\n",
    "num_scaled=df_num.apply(lambda rec:rec-rec.mean()/rec.std(),axis=0)\n",
    "X = pd.DataFrame(num_scaled, columns = df_num.columns)\n",
    "y = df_heart.CVD"
   ]
  },
  {
   "cell_type": "code",
   "execution_count": null,
   "metadata": {
    "id": "zmj6HS3buKem"
   },
   "outputs": [],
   "source": [
    "X = sm.add_constant(X)\n",
    "X_train_rate, X_test_rate, y_train_rate, y_test_rate = train_test_split(X, y, random_state = 1, test_size = 0.2)"
   ]
  },
  {
   "cell_type": "code",
   "execution_count": null,
   "metadata": {
    "id": "zfPnSQ0iuKen",
    "outputId": "0842bfe8-4511-41ed-e1fb-5c57bb80e5b5"
   },
   "outputs": [
    {
     "name": "stdout",
     "output_type": "stream",
     "text": [
      "Optimization terminated successfully.\n",
      "         Current function value: 0.417653\n",
      "         Iterations 6\n",
      "AUC Score: 0.5541\n"
     ]
    }
   ],
   "source": [
    "logreg_heart = sm.Logit(y_train_rate, X_train_rate).fit()\n",
    "y_pred_prob = logreg_heart.predict(X_test_rate)\n",
    "print('AUC Score:',round(metrics.roc_auc_score(y_test_rate, y_pred_prob),4))"
   ]
  },
  {
   "cell_type": "markdown",
   "metadata": {
    "collapsed": true,
    "id": "cv97vq-OuKen"
   },
   "source": [
    "<table align=\"left\">\n",
    "    <tr>\n",
    "        <td width=\"6%\">\n",
    "            <img src=\"question_icon.png\">\n",
    "        </td>\n",
    "        <td>\n",
    "            <div align=\"left\", style=\"font-size:120%\">\n",
    "                <font color=\"#21618C\">\n",
    "                    <b>15. Calculate the cross entropy for the model built in question 14.</b>\n",
    "                </font>\n",
    "            </div>\n",
    "        </td>\n",
    "    </tr>\n",
    "</table>"
   ]
  },
  {
   "cell_type": "markdown",
   "metadata": {
    "id": "Vg5MI8jvuKen"
   },
   "source": [
    "Binary cross entropy also called log loss. Lower the value of cross entropy better is the model."
   ]
  },
  {
   "cell_type": "code",
   "execution_count": null,
   "metadata": {
    "id": "tuO5MiUauKen",
    "outputId": "be993110-2b07-47e4-fd5d-75dad37e3116"
   },
   "outputs": [
    {
     "name": "stdout",
     "output_type": "stream",
     "text": [
      "Log loss: 5.020674262919347\n"
     ]
    }
   ],
   "source": [
    "y_pred = [ 0 if x < 0.5 else 1 for x in y_pred_prob]\n",
    "print(\"Log loss:\",log_loss(y_test_rate,y_pred))"
   ]
  },
  {
   "cell_type": "markdown",
   "metadata": {
    "collapsed": true,
    "id": "1ZucAZEOuKen"
   },
   "source": [
    "<table align=\"left\">\n",
    "    <tr>\n",
    "        <td width=\"6%\">\n",
    "            <img src=\"question_icon.png\">\n",
    "        </td>\n",
    "        <td>\n",
    "            <div align=\"left\", style=\"font-size:120%\">\n",
    "                <font color=\"#21618C\">\n",
    "                    <b>16. Compare the model built in question 14 to the full model built in question 5.</b>\n",
    "                </font>\n",
    "            </div>\n",
    "        </td>\n",
    "    </tr>\n",
    "</table>"
   ]
  },
  {
   "cell_type": "markdown",
   "metadata": {
    "id": "jtH-0CwjuKen"
   },
   "source": [
    "Here we will use deviance of the two models for comparing them."
   ]
  },
  {
   "cell_type": "code",
   "execution_count": null,
   "metadata": {
    "id": "6U3YwFAhuKen",
    "outputId": "363de725-f501-4461-81ac-27c34cf55ead"
   },
   "outputs": [
    {
     "name": "stdout",
     "output_type": "stream",
     "text": [
      "Deviance for model in 14: 2665.4621600921905\n",
      "Deviance for model in Q5(Full model): 2488.3935502006943\n"
     ]
    }
   ],
   "source": [
    "deviance_heart=-2*logreg_heart.llf\n",
    "deviance_full=-2*logreg_full.llf\n",
    "print(\"Deviance for model in 14:\",deviance_heart)\n",
    "print(\"Deviance for model in Q5(Full model):\",deviance_full)"
   ]
  },
  {
   "cell_type": "markdown",
   "metadata": {
    "id": "Yjg9VoyNuKen"
   },
   "source": [
    "As we can see the full model has a lower deviance and hence is a better model."
   ]
  },
  {
   "cell_type": "markdown",
   "metadata": {
    "collapsed": true,
    "id": "lihrcuBXuKeo"
   },
   "source": [
    "<table align=\"left\">\n",
    "    <tr>\n",
    "        <td width=\"6%\">\n",
    "            <img src=\"question_icon.png\">\n",
    "        </td>\n",
    "        <td>\n",
    "            <div align=\"left\", style=\"font-size:120%\">\n",
    "                <font color=\"#21618C\">\n",
    "                    <b>17. What is the cross entropy for the full model? Use the full model in Q5.</b>\n",
    "                </font>\n",
    "            </div>\n",
    "        </td>\n",
    "    </tr>\n",
    "</table>"
   ]
  },
  {
   "cell_type": "code",
   "execution_count": null,
   "metadata": {
    "id": "hzMgq-71uKeo",
    "outputId": "df2339fe-c67a-4237-dd20-9225477950a6",
    "scrolled": true
   },
   "outputs": [
    {
     "name": "stdout",
     "output_type": "stream",
     "text": [
      "Log loss: 5.150522292965741\n"
     ]
    }
   ],
   "source": [
    "y_pred = [ 0 if x < 0.5 else 1 for x in y_pred_prob_full]\n",
    "print(\"Log loss:\",log_loss(y_test,y_pred))"
   ]
  },
  {
   "cell_type": "markdown",
   "metadata": {
    "id": "RH5TA4UJuKeo"
   },
   "source": [
    "As we can see the cross entropy has incresed after including more variables in the model compared to the model considered in question 15. So in our problem as more variables are added the predictions move away the actual labels."
   ]
  },
  {
   "cell_type": "markdown",
   "metadata": {
    "collapsed": true,
    "id": "ztA72twSuKeo"
   },
   "source": [
    "<table align=\"left\">\n",
    "    <tr>\n",
    "        <td width=\"6%\">\n",
    "            <img src=\"question_icon.png\">\n",
    "        </td>\n",
    "        <td>\n",
    "            <div align=\"left\", style=\"font-size:120%\">\n",
    "                <font color=\"#21618C\">\n",
    "                    <b>18. Predict whether a patient has cardiovascular disease based on smoking habits of the patient. For the model find the following:<br> <ol type = \"a\">\n",
    "                        <li> Precision </li>\n",
    "                        <li> Recall</li>   \n",
    "                        <li> F<sub>1</sub> score </li>\n",
    "                        </ol>\n",
    "                    </b>\n",
    "                </font>\n",
    "            </div>\n",
    "        </td>\n",
    "    </tr>\n",
    "</table>"
   ]
  },
  {
   "cell_type": "code",
   "execution_count": null,
   "metadata": {
    "id": "vGHP9uMRuKeo",
    "outputId": "6ca00f1c-658d-410d-ca18-58d99df7f437"
   },
   "outputs": [
    {
     "name": "stdout",
     "output_type": "stream",
     "text": [
      "Optimization terminated successfully.\n",
      "         Current function value: 0.420406\n",
      "         Iterations 6\n",
      "              precision    recall  f1-score   support\n",
      "\n",
      "           0       0.85      1.00      0.92       681\n",
      "           1       0.00      0.00      0.00       117\n",
      "\n",
      "    accuracy                           0.85       798\n",
      "   macro avg       0.43      0.50      0.46       798\n",
      "weighted avg       0.73      0.85      0.79       798\n",
      "\n"
     ]
    }
   ],
   "source": [
    "df_num = df_heart.cigsPerDay\n",
    "num_scaled=df_numeric.apply(lambda rec:rec-rec.mean()/rec.std(),axis=0)\n",
    "df_num = pd.DataFrame(num_scaled, columns = ['cigsPerDay'] )\n",
    "df_cat = pd.get_dummies(df_heart.currentSmoker, drop_first=True)\n",
    "X = pd.concat([df_num,df_cat],axis=1)\n",
    "y = df_heart.CVD\n",
    "X = sm.add_constant(X)\n",
    "X_train_smoke, X_test_smoke, y_train_smoke, y_test_smoke = train_test_split(X, y, random_state = 1, test_size = 0.2)\n",
    "logreg = sm.Logit(y_train_smoke, X_train_smoke).fit()\n",
    "y_pred_prob = logreg.predict(X_test_smoke)\n",
    "y_pred = [ 0 if x < 0.5 else 1 for x in y_pred_prob]\n",
    "print(classification_report(y_test_smoke, y_pred))"
   ]
  },
  {
   "cell_type": "markdown",
   "metadata": {
    "id": "k6nxaZg1uKeo"
   },
   "source": [
    "<a id=\"opt\"> </a>\n",
    "## 4. Determining optimal threshold"
   ]
  },
  {
   "cell_type": "markdown",
   "metadata": {
    "collapsed": true,
    "id": "EFt6pXnyuKep"
   },
   "source": [
    "<table align=\"left\">\n",
    "    <tr>\n",
    "        <td width=\"6%\">\n",
    "            <img src=\"question_icon.png\">\n",
    "        </td>\n",
    "        <td>\n",
    "            <div align=\"left\", style=\"font-size:120%\">\n",
    "                <font color=\"#21618C\">\n",
    "                    <b>19. Obtain the optimal value threshold for the full model using the Youden's index.</b>\n",
    "                </font>\n",
    "            </div>\n",
    "        </td>\n",
    "    </tr>\n",
    "</table>"
   ]
  },
  {
   "cell_type": "code",
   "execution_count": null,
   "metadata": {
    "id": "_vRvcWyiuKep",
    "outputId": "42f04024-01ad-400a-da0a-3a223d74cd40"
   },
   "outputs": [
    {
     "name": "stdout",
     "output_type": "stream",
     "text": [
      "Optimization terminated successfully.\n",
      "         Current function value: 0.374550\n",
      "         Iterations 7\n",
      "                           Logit Regression Results                           \n",
      "==============================================================================\n",
      "Dep. Variable:                    CVD   No. Observations:                 3191\n",
      "Model:                          Logit   Df Residuals:                     3174\n",
      "Method:                           MLE   Df Model:                           16\n",
      "Date:                Thu, 31 Mar 2022   Pseudo R-squ.:                  0.1132\n",
      "Time:                        14:36:11   Log-Likelihood:                -1195.2\n",
      "converged:                       True   LL-Null:                       -1347.7\n",
      "Covariance Type:            nonrobust   LLR p-value:                 2.242e-55\n",
      "=====================================================================================\n",
      "                        coef    std err          z      P>|z|      [0.025      0.975]\n",
      "-------------------------------------------------------------------------------------\n",
      "const                -7.7098      0.662    -11.647      0.000      -9.007      -6.412\n",
      "age                   0.0629      0.007      8.760      0.000       0.049       0.077\n",
      "cigsPerDay            0.0191      0.007      2.861      0.004       0.006       0.032\n",
      "totChol               0.0023      0.001      1.868      0.062      -0.000       0.005\n",
      "sysBP                 0.0148      0.003      4.681      0.000       0.009       0.021\n",
      "BMI                  -0.0066      0.014     -0.486      0.627      -0.033       0.020\n",
      "heartRate            -0.0036      0.005     -0.797      0.425      -0.013       0.005\n",
      "glucose               0.0068      0.002      2.788      0.005       0.002       0.012\n",
      "male_1                0.5095      0.117      4.356      0.000       0.280       0.739\n",
      "education_2.0        -0.2042      0.134     -1.524      0.128      -0.467       0.058\n",
      "education_3.0        -0.0407      0.158     -0.258      0.796      -0.350       0.269\n",
      "education_4.0         0.0168      0.174      0.097      0.923      -0.324       0.357\n",
      "currentSmoker_1       0.1183      0.167      0.710      0.478      -0.208       0.445\n",
      "BPMeds_1.0            0.3320      0.245      1.357      0.175      -0.148       0.811\n",
      "prevalentStroke_1     0.7277      0.527      1.380      0.167      -0.305       1.761\n",
      "prevalentHyp_1        0.1172      0.149      0.787      0.431      -0.175       0.409\n",
      "diabetes_1            0.0009      0.359      0.002      0.998      -0.702       0.704\n",
      "=====================================================================================\n"
     ]
    }
   ],
   "source": [
    "logreg_full = sm.Logit(y_train_full, X_train_full).fit()\n",
    "y_pred_prob_full = logreg_full.predict(X_test_full)\n",
    "print(logreg_full.summary())"
   ]
  },
  {
   "cell_type": "code",
   "execution_count": null,
   "metadata": {
    "id": "rjm9jLp4uKep",
    "outputId": "33c9d803-37cd-4fbc-fe03-c537ef0b1221"
   },
   "outputs": [
    {
     "data": {
      "text/html": [
       "<div>\n",
       "<style scoped>\n",
       "    .dataframe tbody tr th:only-of-type {\n",
       "        vertical-align: middle;\n",
       "    }\n",
       "\n",
       "    .dataframe tbody tr th {\n",
       "        vertical-align: top;\n",
       "    }\n",
       "\n",
       "    .dataframe thead th {\n",
       "        text-align: right;\n",
       "    }\n",
       "</style>\n",
       "<table border=\"1\" class=\"dataframe\">\n",
       "  <thead>\n",
       "    <tr style=\"text-align: right;\">\n",
       "      <th></th>\n",
       "      <th>TPR</th>\n",
       "      <th>FPR</th>\n",
       "      <th>Threshold</th>\n",
       "      <th>Difference</th>\n",
       "    </tr>\n",
       "  </thead>\n",
       "  <tbody>\n",
       "    <tr>\n",
       "      <th>0</th>\n",
       "      <td>0.666667</td>\n",
       "      <td>0.256975</td>\n",
       "      <td>0.170194</td>\n",
       "      <td>0.409692</td>\n",
       "    </tr>\n",
       "    <tr>\n",
       "      <th>1</th>\n",
       "      <td>0.658120</td>\n",
       "      <td>0.249633</td>\n",
       "      <td>0.173637</td>\n",
       "      <td>0.408487</td>\n",
       "    </tr>\n",
       "    <tr>\n",
       "      <th>2</th>\n",
       "      <td>0.683761</td>\n",
       "      <td>0.277533</td>\n",
       "      <td>0.164190</td>\n",
       "      <td>0.406228</td>\n",
       "    </tr>\n",
       "    <tr>\n",
       "      <th>3</th>\n",
       "      <td>0.717949</td>\n",
       "      <td>0.312775</td>\n",
       "      <td>0.152991</td>\n",
       "      <td>0.405173</td>\n",
       "    </tr>\n",
       "    <tr>\n",
       "      <th>4</th>\n",
       "      <td>0.675214</td>\n",
       "      <td>0.270191</td>\n",
       "      <td>0.166715</td>\n",
       "      <td>0.405023</td>\n",
       "    </tr>\n",
       "  </tbody>\n",
       "</table>\n",
       "</div>"
      ],
      "text/plain": [
       "       TPR      FPR  Threshold  Difference\n",
       "0 0.666667 0.256975   0.170194    0.409692\n",
       "1 0.658120 0.249633   0.173637    0.408487\n",
       "2 0.683761 0.277533   0.164190    0.406228\n",
       "3 0.717949 0.312775   0.152991    0.405173\n",
       "4 0.675214 0.270191   0.166715    0.405023"
      ]
     },
     "execution_count": 40,
     "metadata": {},
     "output_type": "execute_result"
    }
   ],
   "source": [
    "y_pred_prob = logreg_full.predict(X_test_full)\n",
    "fpr, tpr, thresholds = roc_curve(y_test_full, y_pred_prob)\n",
    "youdens_table = pd.DataFrame({'TPR': tpr,\n",
    "                             'FPR': fpr,\n",
    "                             'Threshold': thresholds})\n",
    "youdens_table['Difference'] = youdens_table.TPR - youdens_table.FPR\n",
    "youdens_table = youdens_table.sort_values('Difference', ascending = False).reset_index(drop = True)\n",
    "youdens_table.head()"
   ]
  },
  {
   "cell_type": "markdown",
   "metadata": {
    "id": "qzlIdSFTuKep"
   },
   "source": [
    "The above output shows that the maximum difference in TPR and FPR is corresponding to the cut-off value 0.170194. Thus, we can consider this value as the optimal value for cut-off."
   ]
  },
  {
   "cell_type": "markdown",
   "metadata": {
    "collapsed": true,
    "id": "BfT3DYZbuKep"
   },
   "source": [
    "<table align=\"left\">\n",
    "    <tr>\n",
    "        <td width=\"6%\">\n",
    "            <img src=\"question_icon.png\">\n",
    "        </td>\n",
    "        <td>\n",
    "            <div align=\"left\", style=\"font-size:120%\">\n",
    "                <font color=\"#21618C\">\n",
    "                    <b>20. Consider the costs of false negatives and false positives as 3 and 1.3 respectively to obtain the optimal cut-off probability for which the total cost will be minimum.</b>\n",
    "                </font>\n",
    "            </div>\n",
    "        </td>\n",
    "    </tr>\n",
    "</table>"
   ]
  },
  {
   "cell_type": "code",
   "execution_count": null,
   "metadata": {
    "id": "2leQKyUWuKep",
    "outputId": "45c0a5d1-0a7d-4430-a39a-0fc3dc9bd53f"
   },
   "outputs": [
    {
     "data": {
      "text/html": [
       "<div>\n",
       "<style scoped>\n",
       "    .dataframe tbody tr th:only-of-type {\n",
       "        vertical-align: middle;\n",
       "    }\n",
       "\n",
       "    .dataframe tbody tr th {\n",
       "        vertical-align: top;\n",
       "    }\n",
       "\n",
       "    .dataframe thead th {\n",
       "        text-align: right;\n",
       "    }\n",
       "</style>\n",
       "<table border=\"1\" class=\"dataframe\">\n",
       "  <thead>\n",
       "    <tr style=\"text-align: right;\">\n",
       "      <th></th>\n",
       "      <th>cut-off</th>\n",
       "      <th>total_cost</th>\n",
       "    </tr>\n",
       "  </thead>\n",
       "  <tbody>\n",
       "    <tr>\n",
       "      <th>14</th>\n",
       "      <td>0.240000</td>\n",
       "      <td>311.600000</td>\n",
       "    </tr>\n",
       "    <tr>\n",
       "      <th>13</th>\n",
       "      <td>0.230000</td>\n",
       "      <td>314.700000</td>\n",
       "    </tr>\n",
       "    <tr>\n",
       "      <th>15</th>\n",
       "      <td>0.250000</td>\n",
       "      <td>316.600000</td>\n",
       "    </tr>\n",
       "    <tr>\n",
       "      <th>17</th>\n",
       "      <td>0.270000</td>\n",
       "      <td>317.200000</td>\n",
       "    </tr>\n",
       "    <tr>\n",
       "      <th>16</th>\n",
       "      <td>0.260000</td>\n",
       "      <td>318.600000</td>\n",
       "    </tr>\n",
       "  </tbody>\n",
       "</table>\n",
       "</div>"
      ],
      "text/plain": [
       "    cut-off  total_cost\n",
       "14 0.240000  311.600000\n",
       "13 0.230000  314.700000\n",
       "15 0.250000  316.600000\n",
       "17 0.270000  317.200000\n",
       "16 0.260000  318.600000"
      ]
     },
     "execution_count": 41,
     "metadata": {},
     "output_type": "execute_result"
    }
   ],
   "source": [
    "def calculate_total_cost(actual_value, predicted_value, cost_FN, cost_FP):\n",
    "    cm = confusion_matrix(actual_value, predicted_value)           \n",
    "    cm_array = np.array(cm)\n",
    "    return cm_array[1,0] * cost_FN + cm_array[0,1] * cost_FP\n",
    "df_total_cost = pd.DataFrame(columns = ['cut-off', 'total_cost'])\n",
    "i = 0\n",
    "for cut_off in range(10, 50):\n",
    "    total_cost = calculate_total_cost(y_test_full,  y_pred_prob.map(lambda x: 1 if x > (cut_off/100) else 0), 3, 1.3) \n",
    "    df_total_cost.loc[i] = [(cut_off/100), total_cost] \n",
    "    i += 1\n",
    "df_total_cost.sort_values('total_cost', ascending = True).head()"
   ]
  },
  {
   "cell_type": "markdown",
   "metadata": {
    "id": "1wnhOmzAuKep"
   },
   "source": [
    "From the above output we can see that, for the cut-off probability 0.24 the total cost is minimum."
   ]
  }
 ],
 "metadata": {
  "colab": {
   "collapsed_sections": [
    "OGj16v9EuKeZ",
    "PPBc-HBbuKeZ",
    "t4vgQvRDuKeZ",
    "U3pTqE-BuKeg",
    "eqPoeoC_uKei",
    "k6nxaZg1uKeo"
   ],
   "name": "SLC - In-Class Lab Exercise (Day 1) - Solutions [v2.0 - 160920].ipynb",
   "provenance": []
  },
  "kernelspec": {
   "display_name": "Python 3 (ipykernel)",
   "language": "python",
   "name": "python3"
  },
  "language_info": {
   "codemirror_mode": {
    "name": "ipython",
    "version": 3
   },
   "file_extension": ".py",
   "mimetype": "text/x-python",
   "name": "python",
   "nbconvert_exporter": "python",
   "pygments_lexer": "ipython3",
   "version": "3.9.12"
  }
 },
 "nbformat": 4,
 "nbformat_minor": 1
}
